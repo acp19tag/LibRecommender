{
 "cells": [
  {
   "cell_type": "code",
   "execution_count": 5,
   "metadata": {},
   "outputs": [],
   "source": [
    "import numpy as np\n",
    "import pandas as pd\n",
    "from libreco.data import split_by_ratio_chrono, DatasetFeat\n",
    "from libreco.algorithms import YouTubeRanking\n",
    "\n",
    "# remove unnecessary tensorflow logging\n",
    "import os\n",
    "import tensorflow as tf\n",
    "os.environ['TF_CPP_MIN_LOG_LEVEL'] = '3'\n",
    "os.environ[\"KMP_WARNINGS\"] = \"FALSE\"\n",
    "tf.compat.v1.logging.set_verbosity(tf.compat.v1.logging.ERROR)"
   ]
  },
  {
   "cell_type": "code",
   "execution_count": 53,
   "metadata": {},
   "outputs": [],
   "source": [
    "data = pd.read_csv(\n",
    "    \"../../data/kaggle-job-recommendation/apps_with_item_user_data.tsv\",\n",
    "    sep = \"\\t\"\n",
    ")"
   ]
  },
  {
   "cell_type": "code",
   "execution_count": 54,
   "metadata": {},
   "outputs": [
    {
     "data": {
      "text/html": [
       "<div>\n",
       "<style scoped>\n",
       "    .dataframe tbody tr th:only-of-type {\n",
       "        vertical-align: middle;\n",
       "    }\n",
       "\n",
       "    .dataframe tbody tr th {\n",
       "        vertical-align: top;\n",
       "    }\n",
       "\n",
       "    .dataframe thead th {\n",
       "        text-align: right;\n",
       "    }\n",
       "</style>\n",
       "<table border=\"1\" class=\"dataframe\">\n",
       "  <thead>\n",
       "    <tr style=\"text-align: right;\">\n",
       "      <th></th>\n",
       "      <th>UserID</th>\n",
       "      <th>JobID</th>\n",
       "      <th>Label</th>\n",
       "      <th>WindowID</th>\n",
       "      <th>Title</th>\n",
       "      <th>Popularity</th>\n",
       "      <th>DegreeType</th>\n",
       "      <th>Major</th>\n",
       "      <th>WorkHistoryCount</th>\n",
       "      <th>TotalYearsExperience</th>\n",
       "      <th>ManagedHowMany</th>\n",
       "    </tr>\n",
       "  </thead>\n",
       "  <tbody>\n",
       "    <tr>\n",
       "      <th>0</th>\n",
       "      <td>47</td>\n",
       "      <td>169528</td>\n",
       "      <td>1</td>\n",
       "      <td>1</td>\n",
       "      <td>Resort Host/Marketing Coordinator - Anaheim, CA</td>\n",
       "      <td>2</td>\n",
       "      <td>High School</td>\n",
       "      <td>NaN</td>\n",
       "      <td>3</td>\n",
       "      <td>10.0</td>\n",
       "      <td>0</td>\n",
       "    </tr>\n",
       "    <tr>\n",
       "      <th>1</th>\n",
       "      <td>47</td>\n",
       "      <td>284009</td>\n",
       "      <td>1</td>\n",
       "      <td>1</td>\n",
       "      <td>Administrative Assistant</td>\n",
       "      <td>43</td>\n",
       "      <td>High School</td>\n",
       "      <td>NaN</td>\n",
       "      <td>3</td>\n",
       "      <td>10.0</td>\n",
       "      <td>0</td>\n",
       "    </tr>\n",
       "    <tr>\n",
       "      <th>2</th>\n",
       "      <td>47</td>\n",
       "      <td>2121</td>\n",
       "      <td>1</td>\n",
       "      <td>1</td>\n",
       "      <td>MEDICAL- FRONT OFFICE</td>\n",
       "      <td>20</td>\n",
       "      <td>High School</td>\n",
       "      <td>NaN</td>\n",
       "      <td>3</td>\n",
       "      <td>10.0</td>\n",
       "      <td>0</td>\n",
       "    </tr>\n",
       "    <tr>\n",
       "      <th>3</th>\n",
       "      <td>47</td>\n",
       "      <td>848187</td>\n",
       "      <td>1</td>\n",
       "      <td>1</td>\n",
       "      <td>Administrative Assistant</td>\n",
       "      <td>51</td>\n",
       "      <td>High School</td>\n",
       "      <td>NaN</td>\n",
       "      <td>3</td>\n",
       "      <td>10.0</td>\n",
       "      <td>0</td>\n",
       "    </tr>\n",
       "    <tr>\n",
       "      <th>4</th>\n",
       "      <td>47</td>\n",
       "      <td>733748</td>\n",
       "      <td>1</td>\n",
       "      <td>1</td>\n",
       "      <td>Administrative Assistant</td>\n",
       "      <td>7</td>\n",
       "      <td>High School</td>\n",
       "      <td>NaN</td>\n",
       "      <td>3</td>\n",
       "      <td>10.0</td>\n",
       "      <td>0</td>\n",
       "    </tr>\n",
       "  </tbody>\n",
       "</table>\n",
       "</div>"
      ],
      "text/plain": [
       "   UserID   JobID  Label  WindowID  \\\n",
       "0      47  169528      1         1   \n",
       "1      47  284009      1         1   \n",
       "2      47    2121      1         1   \n",
       "3      47  848187      1         1   \n",
       "4      47  733748      1         1   \n",
       "\n",
       "                                             Title  Popularity   DegreeType  \\\n",
       "0  Resort Host/Marketing Coordinator - Anaheim, CA           2  High School   \n",
       "1                         Administrative Assistant          43  High School   \n",
       "2                            MEDICAL- FRONT OFFICE          20  High School   \n",
       "3                         Administrative Assistant          51  High School   \n",
       "4                         Administrative Assistant           7  High School   \n",
       "\n",
       "  Major  WorkHistoryCount  TotalYearsExperience  ManagedHowMany  \n",
       "0   NaN                 3                  10.0               0  \n",
       "1   NaN                 3                  10.0               0  \n",
       "2   NaN                 3                  10.0               0  \n",
       "3   NaN                 3                  10.0               0  \n",
       "4   NaN                 3                  10.0               0  "
      ]
     },
     "execution_count": 54,
     "metadata": {},
     "output_type": "execute_result"
    }
   ],
   "source": [
    "data.head()"
   ]
  },
  {
   "cell_type": "code",
   "execution_count": 55,
   "metadata": {},
   "outputs": [],
   "source": [
    "def split_train_test_by_windowid(df, test_size = 0.2):\n",
    "    first_time = True\n",
    "    for windowid in df['WindowID'].unique():\n",
    "        if first_time:\n",
    "            test_df = df.groupby('WindowID').get_group(windowid).sample(frac = test_size)\n",
    "            first_time = False\n",
    "        else:\n",
    "            test_df.append(df.groupby('WindowID').get_group(windowid).sample(frac = test_size))\n",
    "    train_df = df.drop(test_df.index)\n",
    "    return train_df, test_df"
   ]
  },
  {
   "cell_type": "code",
   "execution_count": 56,
   "metadata": {},
   "outputs": [],
   "source": [
    "# important: rename columns. \n",
    "# Throws ValueError if 'user', 'item' aren't the first two columns of the data \n",
    "\n",
    "data.rename(columns = {\n",
    "    \"UserID\": \"user\",\n",
    "    \"JobID\": \"item\",\n",
    "    \"Label\": \"label\"\n",
    "}, inplace=True)"
   ]
  },
  {
   "cell_type": "code",
   "execution_count": 63,
   "metadata": {},
   "outputs": [],
   "source": [
    "# replace nan on int columns with 0\n",
    "\n",
    "data['WorkHistoryCount'] = data['WorkHistoryCount'].fillna(0)\n",
    "data['TotalYearsExperience'] = data['TotalYearsExperience'].fillna(0)\n",
    "data['ManagedHowMany'] = data['ManagedHowMany'].fillna(0)"
   ]
  },
  {
   "cell_type": "code",
   "execution_count": 64,
   "metadata": {},
   "outputs": [],
   "source": [
    "data = data.astype({\n",
    "    \"user\":                 int,\n",
    "    \"item\":                 int,\n",
    "    \"label\":                int,\n",
    "    \"WindowID\":             int,\n",
    "    \"Title\":                str,\n",
    "    \"Popularity\":           int,\n",
    "    \"DegreeType\":           str,\n",
    "    \"Major\":                str,\n",
    "    \"WorkHistoryCount\":     int,\n",
    "    \"TotalYearsExperience\": int,\n",
    "    \"ManagedHowMany\":       int\n",
    "})"
   ]
  },
  {
   "cell_type": "code",
   "execution_count": 65,
   "metadata": {},
   "outputs": [],
   "source": [
    "train_df, test_df = split_train_test_by_windowid(data)"
   ]
  },
  {
   "cell_type": "code",
   "execution_count": 66,
   "metadata": {},
   "outputs": [],
   "source": [
    "sparse_col = [\"Title\", \"DegreeType\", \"Major\"]\n",
    "dense_col = [\"Popularity\", \"WorkHistoryCount\", \"TotalYearsExperience\", \"ManagedHowMany\"]\n",
    "user_col = [\"DegreeType\", \"Major\", \"WorkHistoryCount\", \"TotalYearsExperience\", \"ManagedHowMany\"]\n",
    "item_col = [\"Title\", \"Popularity\"]\n",
    "\n"
   ]
  },
  {
   "cell_type": "code",
   "execution_count": 67,
   "metadata": {},
   "outputs": [
    {
     "data": {
      "text/html": [
       "<div>\n",
       "<style scoped>\n",
       "    .dataframe tbody tr th:only-of-type {\n",
       "        vertical-align: middle;\n",
       "    }\n",
       "\n",
       "    .dataframe tbody tr th {\n",
       "        vertical-align: top;\n",
       "    }\n",
       "\n",
       "    .dataframe thead th {\n",
       "        text-align: right;\n",
       "    }\n",
       "</style>\n",
       "<table border=\"1\" class=\"dataframe\">\n",
       "  <thead>\n",
       "    <tr style=\"text-align: right;\">\n",
       "      <th></th>\n",
       "      <th>user</th>\n",
       "      <th>item</th>\n",
       "      <th>label</th>\n",
       "      <th>WindowID</th>\n",
       "      <th>Title</th>\n",
       "      <th>Popularity</th>\n",
       "      <th>DegreeType</th>\n",
       "      <th>Major</th>\n",
       "      <th>WorkHistoryCount</th>\n",
       "      <th>TotalYearsExperience</th>\n",
       "      <th>ManagedHowMany</th>\n",
       "    </tr>\n",
       "  </thead>\n",
       "  <tbody>\n",
       "    <tr>\n",
       "      <th>1</th>\n",
       "      <td>47</td>\n",
       "      <td>284009</td>\n",
       "      <td>1</td>\n",
       "      <td>1</td>\n",
       "      <td>Administrative Assistant</td>\n",
       "      <td>43</td>\n",
       "      <td>High School</td>\n",
       "      <td>nan</td>\n",
       "      <td>3</td>\n",
       "      <td>10</td>\n",
       "      <td>0</td>\n",
       "    </tr>\n",
       "    <tr>\n",
       "      <th>2</th>\n",
       "      <td>47</td>\n",
       "      <td>2121</td>\n",
       "      <td>1</td>\n",
       "      <td>1</td>\n",
       "      <td>MEDICAL- FRONT OFFICE</td>\n",
       "      <td>20</td>\n",
       "      <td>High School</td>\n",
       "      <td>nan</td>\n",
       "      <td>3</td>\n",
       "      <td>10</td>\n",
       "      <td>0</td>\n",
       "    </tr>\n",
       "    <tr>\n",
       "      <th>4</th>\n",
       "      <td>47</td>\n",
       "      <td>733748</td>\n",
       "      <td>1</td>\n",
       "      <td>1</td>\n",
       "      <td>Administrative Assistant</td>\n",
       "      <td>7</td>\n",
       "      <td>High School</td>\n",
       "      <td>nan</td>\n",
       "      <td>3</td>\n",
       "      <td>10</td>\n",
       "      <td>0</td>\n",
       "    </tr>\n",
       "    <tr>\n",
       "      <th>5</th>\n",
       "      <td>47</td>\n",
       "      <td>576958</td>\n",
       "      <td>1</td>\n",
       "      <td>1</td>\n",
       "      <td>RECEPTIONIST</td>\n",
       "      <td>21</td>\n",
       "      <td>High School</td>\n",
       "      <td>nan</td>\n",
       "      <td>3</td>\n",
       "      <td>10</td>\n",
       "      <td>0</td>\n",
       "    </tr>\n",
       "    <tr>\n",
       "      <th>6</th>\n",
       "      <td>47</td>\n",
       "      <td>262470</td>\n",
       "      <td>1</td>\n",
       "      <td>1</td>\n",
       "      <td>Account Manager- Customer Service</td>\n",
       "      <td>5</td>\n",
       "      <td>High School</td>\n",
       "      <td>nan</td>\n",
       "      <td>3</td>\n",
       "      <td>10</td>\n",
       "      <td>0</td>\n",
       "    </tr>\n",
       "  </tbody>\n",
       "</table>\n",
       "</div>"
      ],
      "text/plain": [
       "   user    item  label  WindowID                              Title  \\\n",
       "1    47  284009      1         1           Administrative Assistant   \n",
       "2    47    2121      1         1              MEDICAL- FRONT OFFICE   \n",
       "4    47  733748      1         1           Administrative Assistant   \n",
       "5    47  576958      1         1                       RECEPTIONIST   \n",
       "6    47  262470      1         1  Account Manager- Customer Service   \n",
       "\n",
       "   Popularity   DegreeType Major  WorkHistoryCount  TotalYearsExperience  \\\n",
       "1          43  High School   nan                 3                    10   \n",
       "2          20  High School   nan                 3                    10   \n",
       "4           7  High School   nan                 3                    10   \n",
       "5          21  High School   nan                 3                    10   \n",
       "6           5  High School   nan                 3                    10   \n",
       "\n",
       "   ManagedHowMany  \n",
       "1               0  \n",
       "2               0  \n",
       "4               0  \n",
       "5               0  \n",
       "6               0  "
      ]
     },
     "execution_count": 67,
     "metadata": {},
     "output_type": "execute_result"
    }
   ],
   "source": [
    "train_df.head()"
   ]
  },
  {
   "cell_type": "code",
   "execution_count": 70,
   "metadata": {},
   "outputs": [],
   "source": [
    "train_data, data_info = DatasetFeat.build_trainset(\n",
    "        train_df, user_col, item_col, sparse_col, dense_col\n",
    "    )\n",
    "test_data = DatasetFeat.build_testset(test_df)"
   ]
  },
  {
   "cell_type": "code",
   "execution_count": 71,
   "metadata": {},
   "outputs": [
    {
     "name": "stdout",
     "output_type": "stream",
     "text": [
      "random neg item sampling elapsed: 0.001s\n",
      "random neg item sampling elapsed: 0.000s\n",
      "n_users: 155, n_items: 630, data sparsity: 0.6564 %\n"
     ]
    }
   ],
   "source": [
    "# sample negative items for each record\n",
    "train_data.build_negative_samples(data_info)\n",
    "test_data.build_negative_samples(data_info)\n",
    "print(data_info)"
   ]
  },
  {
   "cell_type": "code",
   "execution_count": 72,
   "metadata": {},
   "outputs": [],
   "source": [
    "ytb_ranking = YouTubeRanking(task=\"ranking\", data_info=data_info,\n",
    "                                 embed_size=16, n_epochs=3, lr=1e-4,\n",
    "                                 batch_size=512, use_bn=True,\n",
    "                                 hidden_units=\"128,64,32\")"
   ]
  },
  {
   "cell_type": "code",
   "execution_count": 73,
   "metadata": {},
   "outputs": [
    {
     "name": "stdout",
     "output_type": "stream",
     "text": [
      "Training start time: \u001b[35m2022-03-15 11:10:44\u001b[0m\n",
      "total params: \u001b[33m54,273\u001b[0m | embedding params: \u001b[33m22,753\u001b[0m | network params: \u001b[33m31,520\u001b[0m\n"
     ]
    },
    {
     "name": "stderr",
     "output_type": "stream",
     "text": [
      "train: 100%|██████████| 3/3 [00:00<00:00,  4.83it/s]\n"
     ]
    },
    {
     "name": "stdout",
     "output_type": "stream",
     "text": [
      "Epoch 1 elapsed: 0.626s\n",
      "\t \u001b[32mtrain_loss: 0.8309\u001b[0m\n"
     ]
    },
    {
     "name": "stderr",
     "output_type": "stream",
     "text": [
      "eval_pred: 100%|██████████| 1/1 [00:00<00:00,  6.98it/s]\n",
      "eval_rec: 100%|██████████| 73/73 [00:00<00:00, 195.21it/s]\n"
     ]
    },
    {
     "name": "stdout",
     "output_type": "stream",
     "text": [
      "\t eval log_loss: 0.7137\n",
      "\t eval roc_auc: 0.3833\n",
      "\t eval precision@10: 0.0000\n",
      "\t eval recall@10: 0.0000\n",
      "\t eval map@10: 0.0000\n",
      "\t eval ndcg@10: 0.0000\n",
      "==============================\n"
     ]
    },
    {
     "name": "stderr",
     "output_type": "stream",
     "text": [
      "train: 100%|██████████| 3/3 [00:00<00:00, 81.66it/s]\n"
     ]
    },
    {
     "name": "stdout",
     "output_type": "stream",
     "text": [
      "Epoch 2 elapsed: 0.043s\n",
      "\t \u001b[32mtrain_loss: 0.7607\u001b[0m\n"
     ]
    },
    {
     "name": "stderr",
     "output_type": "stream",
     "text": [
      "eval_pred: 100%|██████████| 1/1 [00:00<00:00, 352.88it/s]\n",
      "eval_rec: 100%|██████████| 73/73 [00:00<00:00, 228.68it/s]\n"
     ]
    },
    {
     "name": "stdout",
     "output_type": "stream",
     "text": [
      "\t eval log_loss: 0.7100\n",
      "\t eval roc_auc: 0.3990\n",
      "\t eval precision@10: 0.0000\n",
      "\t eval recall@10: 0.0000\n",
      "\t eval map@10: 0.0000\n",
      "\t eval ndcg@10: 0.0000\n",
      "==============================\n"
     ]
    },
    {
     "name": "stderr",
     "output_type": "stream",
     "text": [
      "train: 100%|██████████| 3/3 [00:00<00:00, 66.61it/s]\n"
     ]
    },
    {
     "name": "stdout",
     "output_type": "stream",
     "text": [
      "Epoch 3 elapsed: 0.047s\n",
      "\t \u001b[32mtrain_loss: 0.7225\u001b[0m\n"
     ]
    },
    {
     "name": "stderr",
     "output_type": "stream",
     "text": [
      "eval_pred: 100%|██████████| 1/1 [00:00<00:00, 121.86it/s]\n",
      "eval_rec: 100%|██████████| 73/73 [00:00<00:00, 241.50it/s]\n"
     ]
    },
    {
     "name": "stdout",
     "output_type": "stream",
     "text": [
      "\t eval log_loss: 0.7061\n",
      "\t eval roc_auc: 0.4263\n",
      "\t eval precision@10: 0.0000\n",
      "\t eval recall@10: 0.0000\n",
      "\t eval map@10: 0.0000\n",
      "\t eval ndcg@10: 0.0000\n",
      "==============================\n"
     ]
    }
   ],
   "source": [
    "ytb_ranking.fit(train_data, verbose=2, shuffle=True,\n",
    "                    eval_data=test_data,\n",
    "                    metrics=[\"loss\", \"roc_auc\", \"precision\",\n",
    "                             \"recall\", \"map\", \"ndcg\"])"
   ]
  },
  {
   "cell_type": "code",
   "execution_count": 75,
   "metadata": {},
   "outputs": [
    {
     "data": {
      "text/html": [
       "<div>\n",
       "<style scoped>\n",
       "    .dataframe tbody tr th:only-of-type {\n",
       "        vertical-align: middle;\n",
       "    }\n",
       "\n",
       "    .dataframe tbody tr th {\n",
       "        vertical-align: top;\n",
       "    }\n",
       "\n",
       "    .dataframe thead th {\n",
       "        text-align: right;\n",
       "    }\n",
       "</style>\n",
       "<table border=\"1\" class=\"dataframe\">\n",
       "  <thead>\n",
       "    <tr style=\"text-align: right;\">\n",
       "      <th></th>\n",
       "      <th>user</th>\n",
       "      <th>item</th>\n",
       "      <th>label</th>\n",
       "      <th>WindowID</th>\n",
       "      <th>Title</th>\n",
       "      <th>Popularity</th>\n",
       "      <th>DegreeType</th>\n",
       "      <th>Major</th>\n",
       "      <th>WorkHistoryCount</th>\n",
       "      <th>TotalYearsExperience</th>\n",
       "      <th>ManagedHowMany</th>\n",
       "    </tr>\n",
       "  </thead>\n",
       "  <tbody>\n",
       "    <tr>\n",
       "      <th>796</th>\n",
       "      <td>4724</td>\n",
       "      <td>261369</td>\n",
       "      <td>1</td>\n",
       "      <td>1</td>\n",
       "      <td>NDT Technician - Level - II</td>\n",
       "      <td>1</td>\n",
       "      <td>Bachelor's</td>\n",
       "      <td>Media Production</td>\n",
       "      <td>1</td>\n",
       "      <td>10</td>\n",
       "      <td>0</td>\n",
       "    </tr>\n",
       "    <tr>\n",
       "      <th>797</th>\n",
       "      <td>4724</td>\n",
       "      <td>1073733</td>\n",
       "      <td>1</td>\n",
       "      <td>1</td>\n",
       "      <td>NDT (non-destructive testing) Engineer</td>\n",
       "      <td>0</td>\n",
       "      <td>Bachelor's</td>\n",
       "      <td>Media Production</td>\n",
       "      <td>1</td>\n",
       "      <td>10</td>\n",
       "      <td>0</td>\n",
       "    </tr>\n",
       "    <tr>\n",
       "      <th>798</th>\n",
       "      <td>4724</td>\n",
       "      <td>1091073</td>\n",
       "      <td>1</td>\n",
       "      <td>1</td>\n",
       "      <td>Administrative Assistant</td>\n",
       "      <td>13</td>\n",
       "      <td>Bachelor's</td>\n",
       "      <td>Media Production</td>\n",
       "      <td>1</td>\n",
       "      <td>10</td>\n",
       "      <td>0</td>\n",
       "    </tr>\n",
       "    <tr>\n",
       "      <th>799</th>\n",
       "      <td>4724</td>\n",
       "      <td>761456</td>\n",
       "      <td>1</td>\n",
       "      <td>1</td>\n",
       "      <td>EXECUTIVE ASSISTANT</td>\n",
       "      <td>40</td>\n",
       "      <td>Bachelor's</td>\n",
       "      <td>Media Production</td>\n",
       "      <td>1</td>\n",
       "      <td>10</td>\n",
       "      <td>0</td>\n",
       "    </tr>\n",
       "    <tr>\n",
       "      <th>800</th>\n",
       "      <td>4724</td>\n",
       "      <td>1115815</td>\n",
       "      <td>1</td>\n",
       "      <td>1</td>\n",
       "      <td>Administrative Specialist</td>\n",
       "      <td>15</td>\n",
       "      <td>Bachelor's</td>\n",
       "      <td>Media Production</td>\n",
       "      <td>1</td>\n",
       "      <td>10</td>\n",
       "      <td>0</td>\n",
       "    </tr>\n",
       "  </tbody>\n",
       "</table>\n",
       "</div>"
      ],
      "text/plain": [
       "     user     item  label  WindowID                                   Title  \\\n",
       "796  4724   261369      1         1             NDT Technician - Level - II   \n",
       "797  4724  1073733      1         1  NDT (non-destructive testing) Engineer   \n",
       "798  4724  1091073      1         1                Administrative Assistant   \n",
       "799  4724   761456      1         1                     EXECUTIVE ASSISTANT   \n",
       "800  4724  1115815      1         1               Administrative Specialist   \n",
       "\n",
       "     Popularity  DegreeType             Major  WorkHistoryCount  \\\n",
       "796           1  Bachelor's  Media Production                 1   \n",
       "797           0  Bachelor's  Media Production                 1   \n",
       "798          13  Bachelor's  Media Production                 1   \n",
       "799          40  Bachelor's  Media Production                 1   \n",
       "800          15  Bachelor's  Media Production                 1   \n",
       "\n",
       "     TotalYearsExperience  ManagedHowMany  \n",
       "796                    10               0  \n",
       "797                    10               0  \n",
       "798                    10               0  \n",
       "799                    10               0  \n",
       "800                    10               0  "
      ]
     },
     "execution_count": 75,
     "metadata": {},
     "output_type": "execute_result"
    }
   ],
   "source": [
    "data.tail()"
   ]
  },
  {
   "cell_type": "code",
   "execution_count": 76,
   "metadata": {},
   "outputs": [
    {
     "name": "stdout",
     "output_type": "stream",
     "text": [
      "prediction:  [0.48799565]\n",
      "recommendation:  [(1038309, 0.50337595), (1032277, 0.5025235), (491441, 0.5017492), (844661, 0.5016066), (814970, 0.5014388), (898053, 0.5011532), (25250, 0.50113297)]\n",
      "\u001b[31mDetect 1 unknown interaction(s), position: [0]\u001b[0m\n",
      "cold prediction:  [0.46888396]\n",
      "\u001b[31mdetect unknown user: are we good?\u001b[0m\n",
      "cold recommendation:  [28124, 381978, 284009, 512686, 512852, 1054653, 212273]\n"
     ]
    }
   ],
   "source": [
    "# predict preference of user 1 to item 2333\n",
    "print(\"prediction: \", ytb_ranking.predict(user=47, item=1115815))\n",
    "# recommend 7 items for user 1\n",
    "print(\"recommendation: \", ytb_ranking.recommend_user(user=47, n_rec=7))\n",
    "\n",
    "# cold-start prediction\n",
    "print(\"cold prediction: \", ytb_ranking.predict(user=\"ccc\", item=\"not item\",\n",
    "                                                cold_start=\"average\"))\n",
    "# cold-start recommendation\n",
    "print(\"cold recommendation: \", ytb_ranking.recommend_user(user=\"are we good?\",\n",
    "                                                            n_rec=7,\n",
    "                                                            cold_start=\"popular\"))"
   ]
  },
  {
   "cell_type": "code",
   "execution_count": null,
   "metadata": {},
   "outputs": [],
   "source": []
  }
 ],
 "metadata": {
  "interpreter": {
   "hash": "da4ca1177cb7c45aa8cdfed4af725fb645bb4c5d1e0ddf738a1ef61223310061"
  },
  "kernelspec": {
   "display_name": "Python 3.7.3 ('base')",
   "language": "python",
   "name": "python3"
  },
  "language_info": {
   "codemirror_mode": {
    "name": "ipython",
    "version": 3
   },
   "file_extension": ".py",
   "mimetype": "text/x-python",
   "name": "python",
   "nbconvert_exporter": "python",
   "pygments_lexer": "ipython3",
   "version": "3.7.3"
  },
  "orig_nbformat": 4
 },
 "nbformat": 4,
 "nbformat_minor": 2
}
